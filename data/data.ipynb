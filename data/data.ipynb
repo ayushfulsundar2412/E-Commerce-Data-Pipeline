{
 "cells": [
  {
   "cell_type": "code",
   "execution_count": 3,
   "id": "905d1b5a",
   "metadata": {},
   "outputs": [],
   "source": [
    "import pandas as pd\n",
    "from datetime import datetime, timedelta\n",
    "import random"
   ]
  },
  {
   "cell_type": "code",
   "execution_count": 4,
   "id": "f4e9eb7b",
   "metadata": {},
   "outputs": [],
   "source": [
    "# Generate Orders\n",
    "orders = pd.DataFrame({\n",
    "    'order_id': [f'O{i}' for i in range(1, 21)],\n",
    "    'customer_id': [f'C{random.randint(1, 5)}' for _ in range(20)],\n",
    "    'order_date': pd.date_range(start='2024-01-01', periods=20, freq='D')\n",
    "})\n",
    "orders.to_csv('orders.csv', index=False)\n"
   ]
  },
  {
   "cell_type": "code",
   "execution_count": 5,
   "id": "357dbfae",
   "metadata": {},
   "outputs": [],
   "source": [
    "# Generate Customers\n",
    "customers = pd.DataFrame({\n",
    "    'customer_id': [f'C{i}' for i in range(1, 6)],\n",
    "    'name': ['Alice', 'Bob', 'Charlie', 'David', 'Eva'],\n",
    "    'email': [f'user{i}@example.com' for i in range(1, 6)]\n",
    "})\n",
    "customers.to_csv('customers.csv', index=False)\n",
    "\n"
   ]
  },
  {
   "cell_type": "code",
   "execution_count": 6,
   "id": "b1047585",
   "metadata": {},
   "outputs": [],
   "source": [
    "# Generate Shipments\n",
    "statuses = ['shipped', 'delivered']\n",
    "shipments = pd.DataFrame({\n",
    "    'shipment_id': [f'S{i}' for i in range(1, 21)],\n",
    "    'order_id': orders['order_id'],\n",
    "    'status': [random.choice(statuses) for _ in range(20)],\n",
    "    'shipped_at': pd.date_range(start='2024-01-02', periods=20, freq='D'),\n",
    "    'delivered_at': pd.date_range(start='2024-01-03', periods=20, freq='D')\n",
    "})\n",
    "shipments.to_csv('shipments.csv', index=False)"
   ]
  }
 ],
 "metadata": {
  "kernelspec": {
   "display_name": "Python 3",
   "language": "python",
   "name": "python3"
  },
  "language_info": {
   "codemirror_mode": {
    "name": "ipython",
    "version": 3
   },
   "file_extension": ".py",
   "mimetype": "text/x-python",
   "name": "python",
   "nbconvert_exporter": "python",
   "pygments_lexer": "ipython3",
   "version": "3.10.11"
  }
 },
 "nbformat": 4,
 "nbformat_minor": 5
}
